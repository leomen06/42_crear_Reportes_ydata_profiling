{
 "cells": [
  {
   "cell_type": "markdown",
   "id": "6a93c37d",
   "metadata": {},
   "source": [
    "### <a name=\"index_00\"></a> Index\n",
    "\n",
    "### [Install y características - `pip install ydata-profiling`](#mark_00)"
   ]
  },
  {
   "cell_type": "markdown",
   "id": "7160fd8b",
   "metadata": {},
   "source": [
    "### <a name=\"mark_00\"></a> Install\n",
    "### [Index](#index_00)\n",
    "```python\n",
    "pip install ydata-profiling\n",
    "```\n",
    "Tamaño del conjunto de datos: YData Profile puede manejar conjuntos de datos de hasta 100 GB de tamaño. Sin embargo, el rendimiento puede verse afectado por el tamaño del conjunto de datos. Para conjuntos de datos más grandes, es posible que se necesiten más recursos computacionales para ejecutar YData Profile."
   ]
  },
  {
   "cell_type": "code",
   "execution_count": null,
   "id": "6676c2a3",
   "metadata": {},
   "outputs": [],
   "source": []
  },
  {
   "cell_type": "code",
   "execution_count": null,
   "id": "05e4174c",
   "metadata": {},
   "outputs": [],
   "source": []
  },
  {
   "cell_type": "code",
   "execution_count": null,
   "id": "b7b96b7b",
   "metadata": {},
   "outputs": [],
   "source": []
  },
  {
   "cell_type": "code",
   "execution_count": null,
   "id": "fc9035e9",
   "metadata": {},
   "outputs": [],
   "source": []
  },
  {
   "cell_type": "code",
   "execution_count": null,
   "id": "4d71642e",
   "metadata": {},
   "outputs": [],
   "source": []
  },
  {
   "cell_type": "code",
   "execution_count": null,
   "id": "2e75328d",
   "metadata": {},
   "outputs": [],
   "source": []
  },
  {
   "cell_type": "code",
   "execution_count": null,
   "id": "d85656dd",
   "metadata": {},
   "outputs": [],
   "source": []
  }
 ],
 "metadata": {
  "kernelspec": {
   "display_name": "jupyter_kernel_01",
   "language": "python",
   "name": "data_trans_env"
  },
  "language_info": {
   "codemirror_mode": {
    "name": "ipython",
    "version": 3
   },
   "file_extension": ".py",
   "mimetype": "text/x-python",
   "name": "python",
   "nbconvert_exporter": "python",
   "pygments_lexer": "ipython3",
   "version": "3.11.4"
  }
 },
 "nbformat": 4,
 "nbformat_minor": 5
}
